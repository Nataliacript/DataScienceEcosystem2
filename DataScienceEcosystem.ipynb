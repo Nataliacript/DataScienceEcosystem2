{
 "cells": [
  {
   "cell_type": "markdown",
   "id": "7fe7cd18-85d3-4a44-84ce-17c3abfd3c26",
   "metadata": {},
   "source": [
    "# Data Science Tools and Ecosystem"
   ]
  },
  {
   "cell_type": "markdown",
   "id": "f1be1c5a-fab8-44e7-908e-586a370cbc6a",
   "metadata": {},
   "source": [
    "___In this notebook, Data Science Tools and Ecosystem are summarized.___\n",
    "\n"
   ]
  },
  {
   "cell_type": "markdown",
   "id": "b040a830-dde7-4039-b214-c923e689ce5e",
   "metadata": {},
   "source": [
    "**Objectives:**\n",
    "* Add comment to code cell\n",
    "* Create markdown cells\n",
    "* Add ordened list to markdown cells\n",
    "* Make an evaluating arithmetic expressions in Python"
   ]
  },
  {
   "cell_type": "markdown",
   "id": "eaa98d1c-1351-40a6-88d9-140ce4b4fedc",
   "metadata": {},
   "source": [
    "Some of the popular languages that Data Scientists use are:\n",
    "1. Python\n",
    "2. R\n",
    "3. SQl\n",
    "4. Scala\n",
    "5. Java\n",
    "6. C++\n",
    "7. Julia\n"
   ]
  },
  {
   "cell_type": "markdown",
   "id": "8bec0782-263e-46fc-a729-621c751102f5",
   "metadata": {},
   "source": [
    "Some of the commonly used libraries used by Data Scientists include:\n",
    "1. Pandas\n",
    "2. Numpy\n",
    "3. Matplotlib\n",
    "4. Seaborn\n",
    "5. Keras\n",
    "6. TensorFlow"
   ]
  },
  {
   "cell_type": "markdown",
   "id": "04665cee-2c60-43ce-961f-1d1ab62361b5",
   "metadata": {},
   "source": [
    "| Data Science Tools |\n",
    "| -------------| \n",
    "| Jupyter Notebook |\n",
    "| MongoDB |\n",
    "| Spark SQL |\n",
    "| GitHub |\n",
    "| Anaconda |\n",
    "\n"
   ]
  },
  {
   "cell_type": "markdown",
   "id": "4987d0f3-0189-4cb3-ab33-1317236ba48b",
   "metadata": {},
   "source": [
    "### Below are a few examples of evaluating arithmetic expressions in Python\n",
    "* (20+5)*4\n",
    "* 1 + 2 + 3\n",
    "* 8 / 4"
   ]
  },
  {
   "cell_type": "markdown",
   "id": "cfb3afa9-5b16-402b-86ff-50428d839a79",
   "metadata": {},
   "source": [
    "# This a simple arithmetic expression to mutiply then add integers"
   ]
  },
  {
   "cell_type": "code",
   "execution_count": 1,
   "id": "12c7085e-ce17-4855-a003-de446ac69c04",
   "metadata": {},
   "outputs": [
    {
     "data": {
      "text/plain": [
       "17"
      ]
     },
     "execution_count": 1,
     "metadata": {},
     "output_type": "execute_result"
    }
   ],
   "source": [
    "(3*4)+5"
   ]
  },
  {
   "cell_type": "code",
   "execution_count": null,
   "id": "4b7ecc39-ec3b-4141-afa4-1cdf2ade4e41",
   "metadata": {},
   "outputs": [],
   "source": [
    "# This will convert 200 minutes to hours by diving by 60"
   ]
  },
  {
   "cell_type": "code",
   "execution_count": 2,
   "id": "f122ea91-7bb0-4375-9c20-507c1c228b44",
   "metadata": {},
   "outputs": [
    {
     "data": {
      "text/plain": [
       "3.3333333333333335"
      ]
     },
     "execution_count": 2,
     "metadata": {},
     "output_type": "execute_result"
    }
   ],
   "source": [
    "200 / 60"
   ]
  },
  {
   "cell_type": "markdown",
   "id": "16911063-cb5c-484b-bb01-0f84fe269e99",
   "metadata": {},
   "source": [
    "## Author\n",
    "Natália Miranda Fonseca"
   ]
  },
  {
   "cell_type": "code",
   "execution_count": null,
   "id": "506fd40b-fed4-4b83-8dd0-70e7ee12edfd",
   "metadata": {},
   "outputs": [],
   "source": []
  }
 ],
 "metadata": {
  "kernelspec": {
   "display_name": "Python [conda env:base] *",
   "language": "python",
   "name": "conda-base-py"
  },
  "language_info": {
   "codemirror_mode": {
    "name": "ipython",
    "version": 3
   },
   "file_extension": ".py",
   "mimetype": "text/x-python",
   "name": "python",
   "nbconvert_exporter": "python",
   "pygments_lexer": "ipython3",
   "version": "3.12.7"
  }
 },
 "nbformat": 4,
 "nbformat_minor": 5
}
